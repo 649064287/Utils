{
 "cells": [
  {
   "cell_type": "code",
   "execution_count": 118,
   "metadata": {
    "collapsed": true
   },
   "outputs": [],
   "source": [
    "import sys\n",
    "\n",
    "import pandas as pd\n",
    "from docxtpl import DocxTemplate\n",
    "import ogr\n",
    "import gdal"
   ]
  },
  {
   "cell_type": "code",
   "execution_count": 119,
   "outputs": [
    {
     "data": {
      "text/plain": "              内容 Unnamed: 1         功能量    可比价值量/万元     占调节比/%       占总比/%\n0   水源涵养（万立方米/年）        NaN    0.681059    0.681059   0.431921    0.431921\n1     土壤保持（万吨/年）        NaN    0.702466    3.831633   2.429984    2.429984\n2   洪水调蓄（万立方米/年）     植被洪水调蓄    0.069481    1.916274        NaN         NaN\n3            NaN     水库洪水调蓄           0    0.000000        NaN         NaN\n4            NaN         合计    0.069481    1.916274   1.215282    1.215282\n5     水环境净化（吨/年）      净化COD           0    0.000000        NaN         NaN\n6            NaN       净化氨氮           0    0.000000        NaN         NaN\n7            NaN       净化总磷           0    0.000000        NaN         NaN\n8            NaN         合计           -    0.000000   0.000000    0.000000\n9      空气净化（吨/年）     净化二氧化硫           0    0.000000        NaN         NaN\n10           NaN     净化氮氧化物           0    0.000000        NaN         NaN\n11           NaN         合计           -    0.000000   0.000000    0.000000\n12      固碳（万吨/年）        NaN    0.032294    0.720473   0.456917    0.456917\n13      释氧（万吨/年）        NaN    0.023486   30.532255  19.363253   19.363253\n14  气候调节（万千瓦时/年）  植被蒸腾消耗的能量   25.161064   13.586975        NaN         NaN\n15           NaN  水面蒸发消耗的能量  197.060667  106.412760        NaN         NaN\n16           NaN         合计  222.221731  119.999735  76.102643   76.102643\n17        调节服务总计        NaN           -  157.681428        NaN  100.000000\n18        供给产品总计        NaN           -    0.000000        NaN    0.000000\n19        文化服务总计        NaN           -    0.000000        NaN    0.000000\n20         GEP总量        NaN         NaN  157.681428        NaN         NaN\n21           NaN      原始GEP         NaN  100.451655        NaN         NaN\n22           NaN  项目调节服务变化量         NaN   57.230000        NaN         NaN",
      "text/html": "<div>\n<style scoped>\n    .dataframe tbody tr th:only-of-type {\n        vertical-align: middle;\n    }\n\n    .dataframe tbody tr th {\n        vertical-align: top;\n    }\n\n    .dataframe thead th {\n        text-align: right;\n    }\n</style>\n<table border=\"1\" class=\"dataframe\">\n  <thead>\n    <tr style=\"text-align: right;\">\n      <th></th>\n      <th>内容</th>\n      <th>Unnamed: 1</th>\n      <th>功能量</th>\n      <th>可比价值量/万元</th>\n      <th>占调节比/%</th>\n      <th>占总比/%</th>\n    </tr>\n  </thead>\n  <tbody>\n    <tr>\n      <th>0</th>\n      <td>水源涵养（万立方米/年）</td>\n      <td>NaN</td>\n      <td>0.681059</td>\n      <td>0.681059</td>\n      <td>0.431921</td>\n      <td>0.431921</td>\n    </tr>\n    <tr>\n      <th>1</th>\n      <td>土壤保持（万吨/年）</td>\n      <td>NaN</td>\n      <td>0.702466</td>\n      <td>3.831633</td>\n      <td>2.429984</td>\n      <td>2.429984</td>\n    </tr>\n    <tr>\n      <th>2</th>\n      <td>洪水调蓄（万立方米/年）</td>\n      <td>植被洪水调蓄</td>\n      <td>0.069481</td>\n      <td>1.916274</td>\n      <td>NaN</td>\n      <td>NaN</td>\n    </tr>\n    <tr>\n      <th>3</th>\n      <td>NaN</td>\n      <td>水库洪水调蓄</td>\n      <td>0</td>\n      <td>0.000000</td>\n      <td>NaN</td>\n      <td>NaN</td>\n    </tr>\n    <tr>\n      <th>4</th>\n      <td>NaN</td>\n      <td>合计</td>\n      <td>0.069481</td>\n      <td>1.916274</td>\n      <td>1.215282</td>\n      <td>1.215282</td>\n    </tr>\n    <tr>\n      <th>5</th>\n      <td>水环境净化（吨/年）</td>\n      <td>净化COD</td>\n      <td>0</td>\n      <td>0.000000</td>\n      <td>NaN</td>\n      <td>NaN</td>\n    </tr>\n    <tr>\n      <th>6</th>\n      <td>NaN</td>\n      <td>净化氨氮</td>\n      <td>0</td>\n      <td>0.000000</td>\n      <td>NaN</td>\n      <td>NaN</td>\n    </tr>\n    <tr>\n      <th>7</th>\n      <td>NaN</td>\n      <td>净化总磷</td>\n      <td>0</td>\n      <td>0.000000</td>\n      <td>NaN</td>\n      <td>NaN</td>\n    </tr>\n    <tr>\n      <th>8</th>\n      <td>NaN</td>\n      <td>合计</td>\n      <td>-</td>\n      <td>0.000000</td>\n      <td>0.000000</td>\n      <td>0.000000</td>\n    </tr>\n    <tr>\n      <th>9</th>\n      <td>空气净化（吨/年）</td>\n      <td>净化二氧化硫</td>\n      <td>0</td>\n      <td>0.000000</td>\n      <td>NaN</td>\n      <td>NaN</td>\n    </tr>\n    <tr>\n      <th>10</th>\n      <td>NaN</td>\n      <td>净化氮氧化物</td>\n      <td>0</td>\n      <td>0.000000</td>\n      <td>NaN</td>\n      <td>NaN</td>\n    </tr>\n    <tr>\n      <th>11</th>\n      <td>NaN</td>\n      <td>合计</td>\n      <td>-</td>\n      <td>0.000000</td>\n      <td>0.000000</td>\n      <td>0.000000</td>\n    </tr>\n    <tr>\n      <th>12</th>\n      <td>固碳（万吨/年）</td>\n      <td>NaN</td>\n      <td>0.032294</td>\n      <td>0.720473</td>\n      <td>0.456917</td>\n      <td>0.456917</td>\n    </tr>\n    <tr>\n      <th>13</th>\n      <td>释氧（万吨/年）</td>\n      <td>NaN</td>\n      <td>0.023486</td>\n      <td>30.532255</td>\n      <td>19.363253</td>\n      <td>19.363253</td>\n    </tr>\n    <tr>\n      <th>14</th>\n      <td>气候调节（万千瓦时/年）</td>\n      <td>植被蒸腾消耗的能量</td>\n      <td>25.161064</td>\n      <td>13.586975</td>\n      <td>NaN</td>\n      <td>NaN</td>\n    </tr>\n    <tr>\n      <th>15</th>\n      <td>NaN</td>\n      <td>水面蒸发消耗的能量</td>\n      <td>197.060667</td>\n      <td>106.412760</td>\n      <td>NaN</td>\n      <td>NaN</td>\n    </tr>\n    <tr>\n      <th>16</th>\n      <td>NaN</td>\n      <td>合计</td>\n      <td>222.221731</td>\n      <td>119.999735</td>\n      <td>76.102643</td>\n      <td>76.102643</td>\n    </tr>\n    <tr>\n      <th>17</th>\n      <td>调节服务总计</td>\n      <td>NaN</td>\n      <td>-</td>\n      <td>157.681428</td>\n      <td>NaN</td>\n      <td>100.000000</td>\n    </tr>\n    <tr>\n      <th>18</th>\n      <td>供给产品总计</td>\n      <td>NaN</td>\n      <td>-</td>\n      <td>0.000000</td>\n      <td>NaN</td>\n      <td>0.000000</td>\n    </tr>\n    <tr>\n      <th>19</th>\n      <td>文化服务总计</td>\n      <td>NaN</td>\n      <td>-</td>\n      <td>0.000000</td>\n      <td>NaN</td>\n      <td>0.000000</td>\n    </tr>\n    <tr>\n      <th>20</th>\n      <td>GEP总量</td>\n      <td>NaN</td>\n      <td>NaN</td>\n      <td>157.681428</td>\n      <td>NaN</td>\n      <td>NaN</td>\n    </tr>\n    <tr>\n      <th>21</th>\n      <td>NaN</td>\n      <td>原始GEP</td>\n      <td>NaN</td>\n      <td>100.451655</td>\n      <td>NaN</td>\n      <td>NaN</td>\n    </tr>\n    <tr>\n      <th>22</th>\n      <td>NaN</td>\n      <td>项目调节服务变化量</td>\n      <td>NaN</td>\n      <td>57.230000</td>\n      <td>NaN</td>\n      <td>NaN</td>\n    </tr>\n  </tbody>\n</table>\n</div>"
     },
     "execution_count": 119,
     "metadata": {},
     "output_type": "execute_result"
    }
   ],
   "source": [
    "doc_path = r'C:\\Users\\64906\\Documents\\2019年德清下渚湖GEP核算简报.docx'\n",
    "outpath = r'C:\\Users\\64906\\Documents\\out.docx'\n",
    "sm = pd.read_excel(r'C:\\Users\\64906\\Documents\\shuimu\\output\\smjt.xlsx')\n",
    "sm"
   ],
   "metadata": {
    "collapsed": false,
    "pycharm": {
     "name": "#%%\n"
    }
   }
  },
  {
   "cell_type": "code",
   "execution_count": 120,
   "outputs": [],
   "source": [
    "syhy = sm.loc[[0], '功能量'].values\n",
    "syhy_jz = sm.loc[[0], '可比价值量/万元'].values\n",
    "syhy_bl = sm.loc[[0], '占总比/%'].values\n",
    "syhy = '%.2f'%round(float(str(syhy)[1:-1]), 2)\n",
    "syhy_jz = '%.2f'%round(float(str(syhy_jz)[1:-1]), 2)\n",
    "syhy_bl = '%.2f'%round(float(str(syhy_bl)[1:-1]), 2)\n",
    "# print(syhy_jz)\n",
    "# print(syhy_bl)\n",
    "\n",
    "trbc = sm.loc[[1], '功能量'].values\n",
    "trbc_jz = sm.loc[[1], '可比价值量/万元'].values\n",
    "trbc_bl = sm.loc[[1], '占总比/%'].values\n",
    "trbc = '%.2f'%round(float(str(trbc)[1:-1]), 2)\n",
    "trbc_jz = '%.2f'%round(float(str(trbc_jz)[1:-1]), 2)\n",
    "trbc_bl = '%.2f'%round(float(str(trbc_bl)[1:-1]), 2)\n",
    "\n",
    "hstx = sm.loc[[4], '功能量'].values\n",
    "hstx_jz = sm.loc[[4], '可比价值量/万元'].values\n",
    "hstx_bl = sm.loc[[4], '占总比/%'].values\n",
    "hstx = '%.2f'%round(float(str(hstx)[1:-1]), 2)\n",
    "hstx_jz = '%.2f'%round(float(str(hstx_jz)[1:-1]), 2)\n",
    "hstx_bl = '%.2f'%round(float(str(hstx_bl)[1:-1]), 2)\n",
    "\n",
    "gt = sm.loc[[12], '功能量'].values\n",
    "gt_jz = sm.loc[[12], '可比价值量/万元'].values\n",
    "gt_bl = sm.loc[[12], '占总比/%'].values\n",
    "gt = '%.2f'%round(float(str(gt)[1:-1]), 2)\n",
    "gt_jz = '%.2f'%round(float(str(gt_jz)[1:-1]), 2)\n",
    "gt_bl = '%.2f'%round(float(str(gt_bl)[1:-1]), 2)\n",
    "\n",
    "sy = sm.loc[[13], '功能量'].values\n",
    "sy_jz = sm.loc[[13], '可比价值量/万元'].values\n",
    "sy_bl = sm.loc[[13], '占总比/%'].values\n",
    "sy = '%.2f'%round(float(str(sy)[1:-1]), 2)\n",
    "sy_jz = '%.2f'%round(float(str(sy_jz)[1:-1]), 2)\n",
    "sy_bl = '%.2f'%round(float(str(sy_bl)[1:-1]), 2)\n",
    "\n",
    "qh_zb = sm.loc[[14], '功能量'].values\n",
    "qh_sm = sm.loc[[15], '功能量'].values\n",
    "zbsm_jz = sm.loc[[16], '可比价值量/万元'].values\n",
    "zbsm_bl = sm.loc[[16], '占总比/%'].values\n",
    "qh_zb = '%.2f'%round(float(str(qh_zb)[1:-1]), 2)\n",
    "qh_sm = '%.2f'%round(float(str(qh_sm)[1:-1]), 2)\n",
    "zbsm_jz = '%.2f'%round(float(str(zbsm_jz)[1:-1]), 2)\n",
    "zbsm_bl = '%.2f'%round(float(str(zbsm_bl)[1:-1]), 2)\n",
    "# print(zbsm_bl)\n",
    "\n",
    "tjfw_jz = sm.loc[[17], '可比价值量/万元'].values\n",
    "tjfw_bl = sm.loc[[17], '占总比/%'].values\n",
    "tjfw_jz = '%.2f'%round(float(str(tjfw_jz)[1:-1]), 2)\n",
    "tjfw_bl = '%.2f'%round(float(str(tjfw_bl)[1:-1]), 2)\n",
    "# print(tjfw_bl)"
   ],
   "metadata": {
    "collapsed": false,
    "pycharm": {
     "name": "#%%\n"
    }
   }
  },
  {
   "cell_type": "code",
   "execution_count": 121,
   "outputs": [],
   "source": [
    "dic ={\n",
    "    'year':2021,\n",
    "    'city':'水木九天',\n",
    "    'syhy':syhy,\n",
    "    'syhy_jz':syhy_jz,\n",
    "    'syhy_bl':syhy_bl,\n",
    "    'trbc':trbc,\n",
    "    'trbc_jz':trbc_jz,\n",
    "    'trbc_bl':trbc_bl,\n",
    "    'hstx':hstx,\n",
    "    'hstx_jz':hstx_jz,\n",
    "    'hstx_bl':hstx_bl,\n",
    "    'gt':gt,\n",
    "    'gt_jz':gt_jz,\n",
    "    'gt_bl':gt_bl,\n",
    "    'sy':sy,\n",
    "    'sy_jz':sy_jz,\n",
    "    'sy_bl':sy_bl,\n",
    "    'qh_zb':qh_zb,\n",
    "    'qh_sm':qh_sm,\n",
    "    'zbsm_jz':zbsm_jz,\n",
    "    'zbsm_bl':zbsm_bl,\n",
    "    'tjfw_jz':tjfw_jz,\n",
    "    'tjfw_bl':tjfw_bl\n",
    "}\n"
   ],
   "metadata": {
    "collapsed": false,
    "pycharm": {
     "name": "#%%\n"
    }
   }
  },
  {
   "cell_type": "code",
   "execution_count": 122,
   "outputs": [],
   "source": [
    "tpl = DocxTemplate(doc_path)\n",
    "tpl.render(dic)\n",
    "tpl.save(outpath)"
   ],
   "metadata": {
    "collapsed": false,
    "pycharm": {
     "name": "#%%\n"
    }
   }
  },
  {
   "cell_type": "code",
   "execution_count": 123,
   "outputs": [
    {
     "data": {
      "text/plain": "       SYHY_WZ_     SYHY_JZ_    TRBC_WZ_    TRBC_JZ_     HSTX_WZ_  \\\n0    81330368.0   71408.0896  10090578.0  35009.0880   42138952.0   \n1   156186144.0  137131.5072  17654798.0  61174.3552   77587632.0   \n2    90750104.0   79678.5344   9942901.0  34360.0096   44580600.0   \n3   195297248.0  171471.0016  17487092.0  60614.9184   94450080.0   \n4   104416200.0   91677.6704  12307087.0  42501.1040   51892512.0   \n5   183361040.0  160991.3984  21740650.0  75397.3504   93852968.0   \n6   251613872.0  220917.8880  25617356.0  88694.8480  120374856.0   \n7   102612280.0   90093.6896   8283294.0  28719.5136   52780596.0   \n8   110850960.0   97327.0208  10693582.0  37076.6112   58778488.0   \n9   177470288.0  155818.4960  14429291.0  50036.7584   90438808.0   \n10  190752768.0  167480.1408  14717656.0  50994.3840   99130488.0   \n11  148881984.0  130718.2976  12153813.0  42138.1344   72437216.0   \n12  249628544.0  219174.0416  19666324.0  68078.9440  124578664.0   \n13   97947360.0   85997.7024   8426300.0  29209.1872   50724652.0   \n14  242718656.0  213106.5600  22572134.0  78177.9904  135485040.0   \n15   67654240.0   59400.4672   5453190.0  18820.0320   36401868.0   \n16   26266504.0   23061.9632   1750178.5   6030.7964   12589846.0   \n\n       HSTX_JZ_        GT_WZ_      GT_JZ_        SY_WZ_       SY_JZ_  ...  \\\n0    37166.5088  13995.080078  277.494875  10178.252930  1323.171200  ...   \n1    68432.3072  28524.064453  565.575950  20744.785156  2696.824400  ...   \n2    39320.0544  16168.788086  320.594825  11759.138672  1528.685200  ...   \n3    83304.9088  34455.531250  683.183350  25058.546875  3257.611600  ...   \n4    45769.1648  20147.654297  399.487850  14652.817383  1904.868200  ...   \n5    82778.3488  30878.828125  612.264750  22457.304688  2919.450800  ...   \n6   106170.6880  46719.937500  926.361300  33978.089844  4417.164400  ...   \n7    46552.5600  18484.650391  366.513800  13443.388672  1747.640200  ...   \n8    51842.5312  19874.683594  394.075175  14454.330078  1879.058800  ...   \n9    79766.8928  26568.341797  526.797100  19322.410156  2511.915400  ...   \n10   87433.2672  29866.892578  592.200350  21721.398438  2823.781800  ...   \n11   63889.7856  23111.408203  458.252300  16808.277344  2185.073800  ...   \n12  109878.4256  41945.777344  831.701900  30506.091797  3965.780400  ...   \n13   44739.0592  14692.808594  291.328925  10685.688477  1389.139600  ...   \n14  119497.6768  42137.675781  835.505300  30645.630859  3983.932400  ...   \n15   32106.4000  11214.446289  222.360375   8155.981934  1060.276600  ...   \n16   11104.2504   4293.687500   85.135244   3122.684326   405.948775  ...   \n\n       area_     syhy_dw_     trbc_dw_     hstx_dw_  shjjh_dw_  kqjh_dw_  \\\n0    8556.11  9505.530901  1179.341780  4925.012886   0.000042  0.000395   \n1   17237.90  9060.624786  1024.184965  4500.990956   0.000143  0.000376   \n2   10066.50  9015.060249   987.721750  4428.609745   0.000072  0.000363   \n3   22078.00  8845.785307   792.059607  4278.017936   0.000098  0.000366   \n4   11862.40  8802.282843  1037.487102  4374.537362   0.000066  0.000381   \n5   20881.40  8781.070235  1041.149061  4494.572586   0.000047  0.000379   \n6   29407.70  8556.054095   871.110491  4093.310800   0.000101  0.000365   \n7   12072.10  8499.952784   686.151871  4372.113882   0.000131  0.000366   \n8   13111.20  8454.676917   815.606657  4483.074623   0.000126  0.000378   \n9   21696.30  8179.748989   665.057683  4168.397745   0.000133  0.000371   \n10  23355.00  8167.534489   630.171526  4244.508157   0.000114  0.000365   \n11  18492.20  8051.069316   657.239971  3917.176756   0.000177  0.000362   \n12  31545.60  7913.260296   623.425264  3949.161341   0.000172  0.000335   \n13  12393.30  7903.250950   679.907692  4092.909233   0.000349  0.000353   \n14  31161.90  7788.955616   724.350377  4347.778537   0.000097  0.000373   \n15   8999.44  7517.605540   605.947703  4044.903683   0.000101  0.000345   \n16   3936.79  6672.061248   444.569942  3197.997861   0.000240  0.000270   \n\n      gt_dw_    sy_dw_       qhtj_dw_    fylz_dw_  \n0   1.635683  1.189589  231445.439575  453.733092  \n1   1.654730  1.203440  351222.602289  431.218536  \n2   1.606198  1.168146  255933.905131  417.200268  \n3   1.560627  1.135001  291065.228372  419.755820  \n4   1.698447  1.235232  250292.786620  436.861217  \n5   1.478772  1.075469  232888.010957  434.695710  \n6   1.588697  1.155415  289577.796291  418.740568  \n7   1.531188  1.113592  337687.540693  419.781314  \n8   1.515855  1.102441  339665.756300  434.471368  \n9   1.224556  0.890585  344316.159345  425.740103  \n10  1.278822  0.930053  315618.897881  418.997731  \n11  1.249792  0.908939  397406.020701  415.765512  \n12  1.329687  0.967047  377436.786366  384.117880  \n13  1.185544  0.862215  634496.618657  404.979021  \n14  1.352218  0.983433  300679.495923  427.822244  \n15  1.246127  0.906277  289208.764990  395.864159  \n16  1.090657  0.793206  440705.854262  309.797449  \n\n[17 rows x 35 columns]",
      "text/html": "<div>\n<style scoped>\n    .dataframe tbody tr th:only-of-type {\n        vertical-align: middle;\n    }\n\n    .dataframe tbody tr th {\n        vertical-align: top;\n    }\n\n    .dataframe thead th {\n        text-align: right;\n    }\n</style>\n<table border=\"1\" class=\"dataframe\">\n  <thead>\n    <tr style=\"text-align: right;\">\n      <th></th>\n      <th>SYHY_WZ_</th>\n      <th>SYHY_JZ_</th>\n      <th>TRBC_WZ_</th>\n      <th>TRBC_JZ_</th>\n      <th>HSTX_WZ_</th>\n      <th>HSTX_JZ_</th>\n      <th>GT_WZ_</th>\n      <th>GT_JZ_</th>\n      <th>SY_WZ_</th>\n      <th>SY_JZ_</th>\n      <th>...</th>\n      <th>area_</th>\n      <th>syhy_dw_</th>\n      <th>trbc_dw_</th>\n      <th>hstx_dw_</th>\n      <th>shjjh_dw_</th>\n      <th>kqjh_dw_</th>\n      <th>gt_dw_</th>\n      <th>sy_dw_</th>\n      <th>qhtj_dw_</th>\n      <th>fylz_dw_</th>\n    </tr>\n  </thead>\n  <tbody>\n    <tr>\n      <th>0</th>\n      <td>81330368.0</td>\n      <td>71408.0896</td>\n      <td>10090578.0</td>\n      <td>35009.0880</td>\n      <td>42138952.0</td>\n      <td>37166.5088</td>\n      <td>13995.080078</td>\n      <td>277.494875</td>\n      <td>10178.252930</td>\n      <td>1323.171200</td>\n      <td>...</td>\n      <td>8556.11</td>\n      <td>9505.530901</td>\n      <td>1179.341780</td>\n      <td>4925.012886</td>\n      <td>0.000042</td>\n      <td>0.000395</td>\n      <td>1.635683</td>\n      <td>1.189589</td>\n      <td>231445.439575</td>\n      <td>453.733092</td>\n    </tr>\n    <tr>\n      <th>1</th>\n      <td>156186144.0</td>\n      <td>137131.5072</td>\n      <td>17654798.0</td>\n      <td>61174.3552</td>\n      <td>77587632.0</td>\n      <td>68432.3072</td>\n      <td>28524.064453</td>\n      <td>565.575950</td>\n      <td>20744.785156</td>\n      <td>2696.824400</td>\n      <td>...</td>\n      <td>17237.90</td>\n      <td>9060.624786</td>\n      <td>1024.184965</td>\n      <td>4500.990956</td>\n      <td>0.000143</td>\n      <td>0.000376</td>\n      <td>1.654730</td>\n      <td>1.203440</td>\n      <td>351222.602289</td>\n      <td>431.218536</td>\n    </tr>\n    <tr>\n      <th>2</th>\n      <td>90750104.0</td>\n      <td>79678.5344</td>\n      <td>9942901.0</td>\n      <td>34360.0096</td>\n      <td>44580600.0</td>\n      <td>39320.0544</td>\n      <td>16168.788086</td>\n      <td>320.594825</td>\n      <td>11759.138672</td>\n      <td>1528.685200</td>\n      <td>...</td>\n      <td>10066.50</td>\n      <td>9015.060249</td>\n      <td>987.721750</td>\n      <td>4428.609745</td>\n      <td>0.000072</td>\n      <td>0.000363</td>\n      <td>1.606198</td>\n      <td>1.168146</td>\n      <td>255933.905131</td>\n      <td>417.200268</td>\n    </tr>\n    <tr>\n      <th>3</th>\n      <td>195297248.0</td>\n      <td>171471.0016</td>\n      <td>17487092.0</td>\n      <td>60614.9184</td>\n      <td>94450080.0</td>\n      <td>83304.9088</td>\n      <td>34455.531250</td>\n      <td>683.183350</td>\n      <td>25058.546875</td>\n      <td>3257.611600</td>\n      <td>...</td>\n      <td>22078.00</td>\n      <td>8845.785307</td>\n      <td>792.059607</td>\n      <td>4278.017936</td>\n      <td>0.000098</td>\n      <td>0.000366</td>\n      <td>1.560627</td>\n      <td>1.135001</td>\n      <td>291065.228372</td>\n      <td>419.755820</td>\n    </tr>\n    <tr>\n      <th>4</th>\n      <td>104416200.0</td>\n      <td>91677.6704</td>\n      <td>12307087.0</td>\n      <td>42501.1040</td>\n      <td>51892512.0</td>\n      <td>45769.1648</td>\n      <td>20147.654297</td>\n      <td>399.487850</td>\n      <td>14652.817383</td>\n      <td>1904.868200</td>\n      <td>...</td>\n      <td>11862.40</td>\n      <td>8802.282843</td>\n      <td>1037.487102</td>\n      <td>4374.537362</td>\n      <td>0.000066</td>\n      <td>0.000381</td>\n      <td>1.698447</td>\n      <td>1.235232</td>\n      <td>250292.786620</td>\n      <td>436.861217</td>\n    </tr>\n    <tr>\n      <th>5</th>\n      <td>183361040.0</td>\n      <td>160991.3984</td>\n      <td>21740650.0</td>\n      <td>75397.3504</td>\n      <td>93852968.0</td>\n      <td>82778.3488</td>\n      <td>30878.828125</td>\n      <td>612.264750</td>\n      <td>22457.304688</td>\n      <td>2919.450800</td>\n      <td>...</td>\n      <td>20881.40</td>\n      <td>8781.070235</td>\n      <td>1041.149061</td>\n      <td>4494.572586</td>\n      <td>0.000047</td>\n      <td>0.000379</td>\n      <td>1.478772</td>\n      <td>1.075469</td>\n      <td>232888.010957</td>\n      <td>434.695710</td>\n    </tr>\n    <tr>\n      <th>6</th>\n      <td>251613872.0</td>\n      <td>220917.8880</td>\n      <td>25617356.0</td>\n      <td>88694.8480</td>\n      <td>120374856.0</td>\n      <td>106170.6880</td>\n      <td>46719.937500</td>\n      <td>926.361300</td>\n      <td>33978.089844</td>\n      <td>4417.164400</td>\n      <td>...</td>\n      <td>29407.70</td>\n      <td>8556.054095</td>\n      <td>871.110491</td>\n      <td>4093.310800</td>\n      <td>0.000101</td>\n      <td>0.000365</td>\n      <td>1.588697</td>\n      <td>1.155415</td>\n      <td>289577.796291</td>\n      <td>418.740568</td>\n    </tr>\n    <tr>\n      <th>7</th>\n      <td>102612280.0</td>\n      <td>90093.6896</td>\n      <td>8283294.0</td>\n      <td>28719.5136</td>\n      <td>52780596.0</td>\n      <td>46552.5600</td>\n      <td>18484.650391</td>\n      <td>366.513800</td>\n      <td>13443.388672</td>\n      <td>1747.640200</td>\n      <td>...</td>\n      <td>12072.10</td>\n      <td>8499.952784</td>\n      <td>686.151871</td>\n      <td>4372.113882</td>\n      <td>0.000131</td>\n      <td>0.000366</td>\n      <td>1.531188</td>\n      <td>1.113592</td>\n      <td>337687.540693</td>\n      <td>419.781314</td>\n    </tr>\n    <tr>\n      <th>8</th>\n      <td>110850960.0</td>\n      <td>97327.0208</td>\n      <td>10693582.0</td>\n      <td>37076.6112</td>\n      <td>58778488.0</td>\n      <td>51842.5312</td>\n      <td>19874.683594</td>\n      <td>394.075175</td>\n      <td>14454.330078</td>\n      <td>1879.058800</td>\n      <td>...</td>\n      <td>13111.20</td>\n      <td>8454.676917</td>\n      <td>815.606657</td>\n      <td>4483.074623</td>\n      <td>0.000126</td>\n      <td>0.000378</td>\n      <td>1.515855</td>\n      <td>1.102441</td>\n      <td>339665.756300</td>\n      <td>434.471368</td>\n    </tr>\n    <tr>\n      <th>9</th>\n      <td>177470288.0</td>\n      <td>155818.4960</td>\n      <td>14429291.0</td>\n      <td>50036.7584</td>\n      <td>90438808.0</td>\n      <td>79766.8928</td>\n      <td>26568.341797</td>\n      <td>526.797100</td>\n      <td>19322.410156</td>\n      <td>2511.915400</td>\n      <td>...</td>\n      <td>21696.30</td>\n      <td>8179.748989</td>\n      <td>665.057683</td>\n      <td>4168.397745</td>\n      <td>0.000133</td>\n      <td>0.000371</td>\n      <td>1.224556</td>\n      <td>0.890585</td>\n      <td>344316.159345</td>\n      <td>425.740103</td>\n    </tr>\n    <tr>\n      <th>10</th>\n      <td>190752768.0</td>\n      <td>167480.1408</td>\n      <td>14717656.0</td>\n      <td>50994.3840</td>\n      <td>99130488.0</td>\n      <td>87433.2672</td>\n      <td>29866.892578</td>\n      <td>592.200350</td>\n      <td>21721.398438</td>\n      <td>2823.781800</td>\n      <td>...</td>\n      <td>23355.00</td>\n      <td>8167.534489</td>\n      <td>630.171526</td>\n      <td>4244.508157</td>\n      <td>0.000114</td>\n      <td>0.000365</td>\n      <td>1.278822</td>\n      <td>0.930053</td>\n      <td>315618.897881</td>\n      <td>418.997731</td>\n    </tr>\n    <tr>\n      <th>11</th>\n      <td>148881984.0</td>\n      <td>130718.2976</td>\n      <td>12153813.0</td>\n      <td>42138.1344</td>\n      <td>72437216.0</td>\n      <td>63889.7856</td>\n      <td>23111.408203</td>\n      <td>458.252300</td>\n      <td>16808.277344</td>\n      <td>2185.073800</td>\n      <td>...</td>\n      <td>18492.20</td>\n      <td>8051.069316</td>\n      <td>657.239971</td>\n      <td>3917.176756</td>\n      <td>0.000177</td>\n      <td>0.000362</td>\n      <td>1.249792</td>\n      <td>0.908939</td>\n      <td>397406.020701</td>\n      <td>415.765512</td>\n    </tr>\n    <tr>\n      <th>12</th>\n      <td>249628544.0</td>\n      <td>219174.0416</td>\n      <td>19666324.0</td>\n      <td>68078.9440</td>\n      <td>124578664.0</td>\n      <td>109878.4256</td>\n      <td>41945.777344</td>\n      <td>831.701900</td>\n      <td>30506.091797</td>\n      <td>3965.780400</td>\n      <td>...</td>\n      <td>31545.60</td>\n      <td>7913.260296</td>\n      <td>623.425264</td>\n      <td>3949.161341</td>\n      <td>0.000172</td>\n      <td>0.000335</td>\n      <td>1.329687</td>\n      <td>0.967047</td>\n      <td>377436.786366</td>\n      <td>384.117880</td>\n    </tr>\n    <tr>\n      <th>13</th>\n      <td>97947360.0</td>\n      <td>85997.7024</td>\n      <td>8426300.0</td>\n      <td>29209.1872</td>\n      <td>50724652.0</td>\n      <td>44739.0592</td>\n      <td>14692.808594</td>\n      <td>291.328925</td>\n      <td>10685.688477</td>\n      <td>1389.139600</td>\n      <td>...</td>\n      <td>12393.30</td>\n      <td>7903.250950</td>\n      <td>679.907692</td>\n      <td>4092.909233</td>\n      <td>0.000349</td>\n      <td>0.000353</td>\n      <td>1.185544</td>\n      <td>0.862215</td>\n      <td>634496.618657</td>\n      <td>404.979021</td>\n    </tr>\n    <tr>\n      <th>14</th>\n      <td>242718656.0</td>\n      <td>213106.5600</td>\n      <td>22572134.0</td>\n      <td>78177.9904</td>\n      <td>135485040.0</td>\n      <td>119497.6768</td>\n      <td>42137.675781</td>\n      <td>835.505300</td>\n      <td>30645.630859</td>\n      <td>3983.932400</td>\n      <td>...</td>\n      <td>31161.90</td>\n      <td>7788.955616</td>\n      <td>724.350377</td>\n      <td>4347.778537</td>\n      <td>0.000097</td>\n      <td>0.000373</td>\n      <td>1.352218</td>\n      <td>0.983433</td>\n      <td>300679.495923</td>\n      <td>427.822244</td>\n    </tr>\n    <tr>\n      <th>15</th>\n      <td>67654240.0</td>\n      <td>59400.4672</td>\n      <td>5453190.0</td>\n      <td>18820.0320</td>\n      <td>36401868.0</td>\n      <td>32106.4000</td>\n      <td>11214.446289</td>\n      <td>222.360375</td>\n      <td>8155.981934</td>\n      <td>1060.276600</td>\n      <td>...</td>\n      <td>8999.44</td>\n      <td>7517.605540</td>\n      <td>605.947703</td>\n      <td>4044.903683</td>\n      <td>0.000101</td>\n      <td>0.000345</td>\n      <td>1.246127</td>\n      <td>0.906277</td>\n      <td>289208.764990</td>\n      <td>395.864159</td>\n    </tr>\n    <tr>\n      <th>16</th>\n      <td>26266504.0</td>\n      <td>23061.9632</td>\n      <td>1750178.5</td>\n      <td>6030.7964</td>\n      <td>12589846.0</td>\n      <td>11104.2504</td>\n      <td>4293.687500</td>\n      <td>85.135244</td>\n      <td>3122.684326</td>\n      <td>405.948775</td>\n      <td>...</td>\n      <td>3936.79</td>\n      <td>6672.061248</td>\n      <td>444.569942</td>\n      <td>3197.997861</td>\n      <td>0.000240</td>\n      <td>0.000270</td>\n      <td>1.090657</td>\n      <td>0.793206</td>\n      <td>440705.854262</td>\n      <td>309.797449</td>\n    </tr>\n  </tbody>\n</table>\n<p>17 rows × 35 columns</p>\n</div>"
     },
     "execution_count": 123,
     "metadata": {},
     "output_type": "execute_result"
    }
   ],
   "source": [
    "gdal.SetConfigOption(\"GDAL_FILENAME_IS_UTF8\", \"YES\")\n",
    "gdal.SetConfigOption(\"SHAPE_ENCODING\", \"GBK\")\n",
    "fn = r'C:\\Users\\64906\\Documents\\乡镇_new\\乡镇_new\\regionres.shp'\n",
    "SYHY_WZ_ = []\n",
    "SYHY_JZ_ = []\n",
    "TRBC_WZ_ = []\n",
    "TRBC_JZ_ = []\n",
    "HSTX_WZ_ = []\n",
    "HSTX_JZ_ = []\n",
    "GT_WZ_ = []\n",
    "GT_JZ_ = []\n",
    "SY_WZ_ = []\n",
    "SY_JZ_ = []\n",
    "QHTJ_WZ_ = []\n",
    "QHTJ_JZ_ = []\n",
    "KQJH_WZ_ = []\n",
    "KQJH_JZ_ = []\n",
    "SHJJH_WZ_ = []\n",
    "SHJJH_JZ_ = []\n",
    "FYLZ_WZ_ = []\n",
    "FYLZ_JZ_ = []\n",
    "TJFW_JZ_ = []\n",
    "NONG_JZ_ = []\n",
    "LING_JZ_ = []\n",
    "MU_JZ_ = []\n",
    "YU_JZ_ = []\n",
    "GONGJI_JZ_ = []\n",
    "ZLDWMC_ = []\n",
    "area_ = []\n",
    "\n",
    "ds = ogr.Open(fn, 0)\n",
    "if ds is None:\n",
    "    sys.exit('Could not open {0}.'.format(fn))\n",
    "lyr = ds.GetLayer(0)\n",
    "for feat in lyr:\n",
    "    SYHY_WZ = feat.GetField('SYHY_WZ')\n",
    "    SYHY_JZ = feat.GetField('SYHY_JZ')\n",
    "    TRBC_WZ = feat.GetField('TRBC_WZ')\n",
    "    TRBC_JZ = feat.GetField('TRBC_JZ')\n",
    "    HSTX_WZ = feat.GetField('HSTX_WZ')\n",
    "    HSTX_JZ = feat.GetField('HSTX_JZ')\n",
    "    GT_WZ = feat.GetField('GT_WZ')\n",
    "    GT_JZ = feat.GetField('GT_JZ')\n",
    "    SY_WZ = feat.GetField('SY_WZ')\n",
    "    SY_JZ = feat.GetField('SY_JZ')\n",
    "    QHTJ_WZ = feat.GetField('QHTJ_WZ')\n",
    "    QHTJ_JZ = feat.GetField('QHTJ_JZ')\n",
    "    KQJH_WZ = feat.GetField('KQJH_WZ')\n",
    "    KQJH_JZ = feat.GetField('KQJH_JZ')\n",
    "    SHJJH_WZ = feat.GetField('SHJJH_WZ')\n",
    "    SHJJH_JZ = feat.GetField('SHJJH_JZ')\n",
    "    FYLZ_WZ = feat.GetField('FYLZ_WZ')\n",
    "    FYLZ_JZ = feat.GetField('FYLZ_JZ')\n",
    "    TJFW_JZ = feat.GetField('TJFW_JZ')\n",
    "    NONG_JZ = feat.GetField('NONG_JZ')\n",
    "    LING_JZ = feat.GetField('LING_JZ')\n",
    "    MU_JZ = feat.GetField('MU_JZ')\n",
    "    YU_JZ = feat.GetField('YU_JZ')\n",
    "    GONGJI_JZ = feat.GetField('GONGJI_JZ')\n",
    "    ZLDWMC = feat.GetField('ZLDWMC')\n",
    "    area = feat.GetField('area')\n",
    "\n",
    "    SYHY_WZ_.append(SYHY_WZ)\n",
    "    SYHY_JZ_.append(SYHY_JZ)\n",
    "    TRBC_WZ_.append(TRBC_WZ)\n",
    "    TRBC_JZ_.append(TRBC_JZ)\n",
    "    HSTX_WZ_.append(HSTX_WZ)\n",
    "    HSTX_JZ_.append(HSTX_JZ)\n",
    "    GT_WZ_.append(GT_WZ)\n",
    "    GT_JZ_.append(GT_JZ)\n",
    "    SY_WZ_.append(SY_WZ)\n",
    "    SY_JZ_.append(SY_JZ)\n",
    "    QHTJ_WZ_.append(QHTJ_WZ)\n",
    "    QHTJ_JZ_.append(QHTJ_JZ)\n",
    "    KQJH_WZ_.append(KQJH_WZ)\n",
    "    KQJH_JZ_.append(KQJH_JZ)\n",
    "    SHJJH_WZ_.append(SHJJH_WZ)\n",
    "    SHJJH_JZ_.append(SHJJH_JZ)\n",
    "    FYLZ_WZ_.append(FYLZ_WZ)\n",
    "    FYLZ_JZ_.append(FYLZ_JZ)\n",
    "    TJFW_JZ_.append(TJFW_JZ)\n",
    "    NONG_JZ_.append(NONG_JZ)\n",
    "    LING_JZ_.append(LING_JZ)\n",
    "    MU_JZ_.append(MU_JZ)\n",
    "    YU_JZ_.append(YU_JZ)\n",
    "    GONGJI_JZ_.append(GONGJI_JZ)\n",
    "    ZLDWMC_.append(ZLDWMC)\n",
    "    area_.append(area)\n",
    "\n",
    "data = {\n",
    "    'SYHY_WZ_':SYHY_WZ_,\n",
    "    'SYHY_JZ_':SYHY_JZ_,\n",
    "    'TRBC_WZ_':TRBC_WZ_,\n",
    "    'TRBC_JZ_':TRBC_JZ_,\n",
    "    'HSTX_WZ_':HSTX_WZ_,\n",
    "    'HSTX_JZ_':HSTX_JZ_,\n",
    "    'GT_WZ_':GT_WZ_,\n",
    "    'GT_JZ_':GT_JZ_,\n",
    "    'SY_WZ_':SY_WZ_,\n",
    "    'SY_JZ_':SY_JZ_,\n",
    "    'QHTJ_WZ_':QHTJ_WZ_,\n",
    "    'QHTJ_JZ_':QHTJ_JZ_,\n",
    "    'KQJH_WZ_':KQJH_WZ_,\n",
    "    'KQJH_JZ_':KQJH_JZ_,\n",
    "    'SHJJH_WZ_':SHJJH_WZ_,\n",
    "    'SHJJH_JZ_':SHJJH_JZ_,\n",
    "    'FYLZ_WZ_':FYLZ_WZ_,\n",
    "    'FYLZ_JZ_':FYLZ_JZ_,\n",
    "    'TJFW_JZ_':TJFW_JZ_,\n",
    "    'NONG_JZ_':NONG_JZ_,\n",
    "    'LING_JZ_':LING_JZ_,\n",
    "    'MU_JZ_':MU_JZ_,\n",
    "    'YU_JZ_':YU_JZ_,\n",
    "    'GONGJI_JZ_':GONGJI_JZ_,\n",
    "    'ZLDWMC_':ZLDWMC_,\n",
    "    'area_':area_,\n",
    "}\n",
    "df = pd.DataFrame(data)\n",
    "\n",
    "df['syhy_dw_'] = df['SYHY_WZ_'] / df['area_']\n",
    "df['trbc_dw_'] = df['TRBC_WZ_'] / df['area_']\n",
    "df['hstx_dw_'] = df['HSTX_WZ_'] / df['area_']\n",
    "df['shjjh_dw_'] = df['SHJJH_WZ_'] / df['area_']\n",
    "df['kqjh_dw_'] = df['KQJH_WZ_'] / df['area_']\n",
    "df['gt_dw_'] = df['GT_WZ_'] / df['area_']\n",
    "df['sy_dw_'] = df['SY_WZ_'] / df['area_']\n",
    "df['qhtj_dw_'] = df['QHTJ_WZ_'] / df['area_']\n",
    "df['fylz_dw_'] = df['FYLZ_WZ_'] / df['area_']\n",
    "\n",
    "df_syhy = df.sort_values(by=['SYHY_WZ_'], ascending=[False]).reset_index(drop=True)\n",
    "df_trbc = df.sort_values(by=['TRBC_WZ_'], ascending=[False])\n",
    "df_hstx = df.sort_values(by=['HSTX_WZ_'], ascending=[False])\n",
    "df_shjjh = df.sort_values(by=['SHJJH_WZ_'], ascending=[False])\n",
    "df_kqjh = df.sort_values(by=['KQJH_WZ_'], ascending=[False])\n",
    "df_gt = df.sort_values(by=['GT_WZ_'], ascending=[False])\n",
    "df_sy = df.sort_values(by=['SY_WZ_'], ascending=[False])\n",
    "df_qhtj = df.sort_values(by=['QHTJ_WZ_'], ascending=[False])\n",
    "df_fylz = df.sort_values(by=['FYLZ_WZ_'], ascending=[False])\n",
    "# df_wzby = df.sort_values(by=['_WZ_'], ascending=[False])\n",
    "\n",
    "df_syhy_dw = df.sort_values(by=['syhy_dw_'], ascending=[False]).reset_index(drop=True)\n",
    "\n",
    "df_syhy_dw"
   ],
   "metadata": {
    "collapsed": false,
    "pycharm": {
     "name": "#%%\n"
    }
   }
  },
  {
   "cell_type": "code",
   "execution_count": 124,
   "outputs": [
    {
     "name": "stdout",
     "output_type": "stream",
     "text": [
      "[2.51613872e+08]\n"
     ]
    }
   ],
   "source": [
    "syhy_1 = df_syhy.loc[[0], 'ZLDWMC_'].values\n",
    "# str(syhy_1)[2:-2]\n",
    "syhy_1_gnl = df_syhy.loc[[0], 'SYHY_WZ_'].values\n",
    "print(syhy_1_gnl)\n"
   ],
   "metadata": {
    "collapsed": false,
    "pycharm": {
     "name": "#%%\n"
    }
   }
  },
  {
   "cell_type": "code",
   "execution_count": 125,
   "outputs": [
    {
     "ename": "KeyError",
     "evalue": "'dw_'",
     "output_type": "error",
     "traceback": [
      "\u001B[1;31m---------------------------------------------------------------------------\u001B[0m",
      "\u001B[1;31mKeyError\u001B[0m                                  Traceback (most recent call last)",
      "\u001B[1;32m~\\AppData\\Local\\Temp/ipykernel_16020/796404515.py\u001B[0m in \u001B[0;36m<module>\u001B[1;34m\u001B[0m\n\u001B[0;32m      2\u001B[0m \u001B[1;33m\u001B[0m\u001B[0m\n\u001B[0;32m      3\u001B[0m \u001B[1;33m\u001B[0m\u001B[0m\n\u001B[1;32m----> 4\u001B[1;33m \u001B[0mdf_syhy\u001B[0m \u001B[1;33m=\u001B[0m \u001B[0mdf\u001B[0m\u001B[1;33m.\u001B[0m\u001B[0msort_values\u001B[0m\u001B[1;33m(\u001B[0m\u001B[0mby\u001B[0m\u001B[1;33m=\u001B[0m\u001B[1;33m[\u001B[0m\u001B[1;34m'dw_'\u001B[0m\u001B[1;33m]\u001B[0m\u001B[1;33m,\u001B[0m \u001B[0mascending\u001B[0m\u001B[1;33m=\u001B[0m\u001B[1;33m[\u001B[0m\u001B[1;32mFalse\u001B[0m\u001B[1;33m]\u001B[0m\u001B[1;33m)\u001B[0m\u001B[1;33m.\u001B[0m\u001B[0mreset_index\u001B[0m\u001B[1;33m(\u001B[0m\u001B[0mdrop\u001B[0m\u001B[1;33m=\u001B[0m\u001B[1;32mTrue\u001B[0m\u001B[1;33m)\u001B[0m\u001B[1;33m\u001B[0m\u001B[1;33m\u001B[0m\u001B[0m\n\u001B[0m\u001B[0;32m      5\u001B[0m \u001B[0mdf_trbc\u001B[0m \u001B[1;33m=\u001B[0m \u001B[0mdf\u001B[0m\u001B[1;33m.\u001B[0m\u001B[0msort_values\u001B[0m\u001B[1;33m(\u001B[0m\u001B[0mby\u001B[0m\u001B[1;33m=\u001B[0m\u001B[1;33m[\u001B[0m\u001B[1;34m'dw_'\u001B[0m\u001B[1;33m]\u001B[0m\u001B[1;33m,\u001B[0m \u001B[0mascending\u001B[0m\u001B[1;33m=\u001B[0m\u001B[1;33m[\u001B[0m\u001B[1;32mFalse\u001B[0m\u001B[1;33m]\u001B[0m\u001B[1;33m)\u001B[0m\u001B[1;33m.\u001B[0m\u001B[0mreset_index\u001B[0m\u001B[1;33m(\u001B[0m\u001B[0mdrop\u001B[0m\u001B[1;33m=\u001B[0m\u001B[1;32mTrue\u001B[0m\u001B[1;33m)\u001B[0m\u001B[1;33m\u001B[0m\u001B[1;33m\u001B[0m\u001B[0m\n\u001B[0;32m      6\u001B[0m \u001B[0mdf_hstx\u001B[0m \u001B[1;33m=\u001B[0m \u001B[0mdf\u001B[0m\u001B[1;33m.\u001B[0m\u001B[0msort_values\u001B[0m\u001B[1;33m(\u001B[0m\u001B[0mby\u001B[0m\u001B[1;33m=\u001B[0m\u001B[1;33m[\u001B[0m\u001B[1;34m'dw_'\u001B[0m\u001B[1;33m]\u001B[0m\u001B[1;33m,\u001B[0m \u001B[0mascending\u001B[0m\u001B[1;33m=\u001B[0m\u001B[1;33m[\u001B[0m\u001B[1;32mFalse\u001B[0m\u001B[1;33m]\u001B[0m\u001B[1;33m)\u001B[0m\u001B[1;33m.\u001B[0m\u001B[0mreset_index\u001B[0m\u001B[1;33m(\u001B[0m\u001B[0mdrop\u001B[0m\u001B[1;33m=\u001B[0m\u001B[1;32mTrue\u001B[0m\u001B[1;33m)\u001B[0m\u001B[1;33m\u001B[0m\u001B[1;33m\u001B[0m\u001B[0m\n",
      "\u001B[1;32mE:\\anaconda\\envs\\utils\\lib\\site-packages\\pandas\\util\\_decorators.py\u001B[0m in \u001B[0;36mwrapper\u001B[1;34m(*args, **kwargs)\u001B[0m\n\u001B[0;32m    309\u001B[0m                     \u001B[0mstacklevel\u001B[0m\u001B[1;33m=\u001B[0m\u001B[0mstacklevel\u001B[0m\u001B[1;33m,\u001B[0m\u001B[1;33m\u001B[0m\u001B[1;33m\u001B[0m\u001B[0m\n\u001B[0;32m    310\u001B[0m                 )\n\u001B[1;32m--> 311\u001B[1;33m             \u001B[1;32mreturn\u001B[0m \u001B[0mfunc\u001B[0m\u001B[1;33m(\u001B[0m\u001B[1;33m*\u001B[0m\u001B[0margs\u001B[0m\u001B[1;33m,\u001B[0m \u001B[1;33m**\u001B[0m\u001B[0mkwargs\u001B[0m\u001B[1;33m)\u001B[0m\u001B[1;33m\u001B[0m\u001B[1;33m\u001B[0m\u001B[0m\n\u001B[0m\u001B[0;32m    312\u001B[0m \u001B[1;33m\u001B[0m\u001B[0m\n\u001B[0;32m    313\u001B[0m         \u001B[1;32mreturn\u001B[0m \u001B[0mwrapper\u001B[0m\u001B[1;33m\u001B[0m\u001B[1;33m\u001B[0m\u001B[0m\n",
      "\u001B[1;32mE:\\anaconda\\envs\\utils\\lib\\site-packages\\pandas\\core\\frame.py\u001B[0m in \u001B[0;36msort_values\u001B[1;34m(self, by, axis, ascending, inplace, kind, na_position, ignore_index, key)\u001B[0m\n\u001B[0;32m   6257\u001B[0m \u001B[1;33m\u001B[0m\u001B[0m\n\u001B[0;32m   6258\u001B[0m             \u001B[0mby\u001B[0m \u001B[1;33m=\u001B[0m \u001B[0mby\u001B[0m\u001B[1;33m[\u001B[0m\u001B[1;36m0\u001B[0m\u001B[1;33m]\u001B[0m\u001B[1;33m\u001B[0m\u001B[1;33m\u001B[0m\u001B[0m\n\u001B[1;32m-> 6259\u001B[1;33m             \u001B[0mk\u001B[0m \u001B[1;33m=\u001B[0m \u001B[0mself\u001B[0m\u001B[1;33m.\u001B[0m\u001B[0m_get_label_or_level_values\u001B[0m\u001B[1;33m(\u001B[0m\u001B[0mby\u001B[0m\u001B[1;33m,\u001B[0m \u001B[0maxis\u001B[0m\u001B[1;33m=\u001B[0m\u001B[0maxis\u001B[0m\u001B[1;33m)\u001B[0m\u001B[1;33m\u001B[0m\u001B[1;33m\u001B[0m\u001B[0m\n\u001B[0m\u001B[0;32m   6260\u001B[0m \u001B[1;33m\u001B[0m\u001B[0m\n\u001B[0;32m   6261\u001B[0m             \u001B[1;31m# need to rewrap column in Series to apply key function\u001B[0m\u001B[1;33m\u001B[0m\u001B[1;33m\u001B[0m\u001B[1;33m\u001B[0m\u001B[0m\n",
      "\u001B[1;32mE:\\anaconda\\envs\\utils\\lib\\site-packages\\pandas\\core\\generic.py\u001B[0m in \u001B[0;36m_get_label_or_level_values\u001B[1;34m(self, key, axis)\u001B[0m\n\u001B[0;32m   1777\u001B[0m             \u001B[0mvalues\u001B[0m \u001B[1;33m=\u001B[0m \u001B[0mself\u001B[0m\u001B[1;33m.\u001B[0m\u001B[0maxes\u001B[0m\u001B[1;33m[\u001B[0m\u001B[0maxis\u001B[0m\u001B[1;33m]\u001B[0m\u001B[1;33m.\u001B[0m\u001B[0mget_level_values\u001B[0m\u001B[1;33m(\u001B[0m\u001B[0mkey\u001B[0m\u001B[1;33m)\u001B[0m\u001B[1;33m.\u001B[0m\u001B[0m_values\u001B[0m\u001B[1;33m\u001B[0m\u001B[1;33m\u001B[0m\u001B[0m\n\u001B[0;32m   1778\u001B[0m         \u001B[1;32melse\u001B[0m\u001B[1;33m:\u001B[0m\u001B[1;33m\u001B[0m\u001B[1;33m\u001B[0m\u001B[0m\n\u001B[1;32m-> 1779\u001B[1;33m             \u001B[1;32mraise\u001B[0m \u001B[0mKeyError\u001B[0m\u001B[1;33m(\u001B[0m\u001B[0mkey\u001B[0m\u001B[1;33m)\u001B[0m\u001B[1;33m\u001B[0m\u001B[1;33m\u001B[0m\u001B[0m\n\u001B[0m\u001B[0;32m   1780\u001B[0m \u001B[1;33m\u001B[0m\u001B[0m\n\u001B[0;32m   1781\u001B[0m         \u001B[1;31m# Check for duplicates\u001B[0m\u001B[1;33m\u001B[0m\u001B[1;33m\u001B[0m\u001B[1;33m\u001B[0m\u001B[0m\n",
      "\u001B[1;31mKeyError\u001B[0m: 'dw_'"
     ]
    }
   ],
   "source": [
    "# df['SYHY_WZ_']\n",
    "\n",
    "\n",
    "df_syhy = df.sort_values(by=['dw_'], ascending=[False]).reset_index(drop=True)\n",
    "df_trbc = df.sort_values(by=['dw_'], ascending=[False]).reset_index(drop=True)\n",
    "df_hstx = df.sort_values(by=['dw_'], ascending=[False]).reset_index(drop=True)\n",
    "df_shjjh = df.sort_values(by=['dw_'], ascending=[False]).reset_index(drop=True)\n",
    "df_kqjh = df.sort_values(by=['dw_'], ascending=[False]).reset_index(drop=True)\n",
    "df_gt = df.sort_values(by=['dw_'], ascending=[False]).reset_index(drop=True)\n",
    "df_sy = df.sort_values(by=['dw_'], ascending=[False]).reset_index(drop=True)\n",
    "df_qhtj = df.sort_values(by=['dw_'], ascending=[False]).reset_index(drop=True)\n",
    "df_fylz = df.sort_values(by=['dw_'], ascending=[False]).reset_index(drop=True)\n",
    "\n",
    "df_trbc"
   ],
   "metadata": {
    "collapsed": false,
    "pycharm": {
     "name": "#%%\n"
    }
   }
  }
 ],
 "metadata": {
  "kernelspec": {
   "display_name": "Python 3",
   "language": "python",
   "name": "python3"
  },
  "language_info": {
   "codemirror_mode": {
    "name": "ipython",
    "version": 2
   },
   "file_extension": ".py",
   "mimetype": "text/x-python",
   "name": "python",
   "nbconvert_exporter": "python",
   "pygments_lexer": "ipython2",
   "version": "2.7.6"
  }
 },
 "nbformat": 4,
 "nbformat_minor": 0
}