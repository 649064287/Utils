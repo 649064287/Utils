{
 "cells": [
  {
   "cell_type": "code",
   "execution_count": 4,
   "metadata": {
    "collapsed": true
   },
   "outputs": [],
   "source": [
    "import os\n",
    "import numpy as nup\n",
    "from netCDF4 import Dataset\n",
    "import pandas as pd"
   ]
  },
  {
   "cell_type": "code",
   "execution_count": 8,
   "outputs": [
    {
     "data": {
      "text/plain": "      0     1     2     3     4     5     6     7     8     9     ...  3590  \\\n0        0     0     0     0     0     0     0     0     0     0  ...     0   \n1        0     0     0     0     0     0     0     0     0     0  ...     0   \n2        0     0     0     0     0     0     0     0     0     0  ...     0   \n3        0     0     0     0     0     0     0     0     0     0  ...     0   \n4        0     0     0     0     0     0     0     0     0     0  ...     0   \n...    ...   ...   ...   ...   ...   ...   ...   ...   ...   ...  ...   ...   \n1795   363   363   363   363   363   363   363   363   363   363  ...   397   \n1796   356   356   356   356   356   356   356   355   355   355  ...   398   \n1797   355   355   355   355   355   355   355   355   355   355  ...   395   \n1798   339   339   339   339   339   339   339   339   339   339  ...   396   \n1799   338   338   338   338   338   338   338   338   338   338  ...   395   \n\n      3591  3592  3593  3594  3595  3596  3597  3598  3599  \n0        0     0     0     0     0     0     0     0     0  \n1        0     0     0     0     0     0     0     0     0  \n2        0     0     0     0     0     0     0     0     0  \n3        0     0     0     0     0     0     0     0     0  \n4        0     0     0     0     0     0     0     0     0  \n...    ...   ...   ...   ...   ...   ...   ...   ...   ...  \n1795   397   397   397   398   398   398   398   398   398  \n1796   398   398   398   396   396   396   396   396   396  \n1797   395   395   395   395   395   395   395   395   395  \n1798   396   396   396   396   396   396   396   396   396  \n1799   395   395   395   395   395   395   395   395   395  \n\n[1800 rows x 3600 columns]",
      "text/html": "<div>\n<style scoped>\n    .dataframe tbody tr th:only-of-type {\n        vertical-align: middle;\n    }\n\n    .dataframe tbody tr th {\n        vertical-align: top;\n    }\n\n    .dataframe thead th {\n        text-align: right;\n    }\n</style>\n<table border=\"1\" class=\"dataframe\">\n  <thead>\n    <tr style=\"text-align: right;\">\n      <th></th>\n      <th>0</th>\n      <th>1</th>\n      <th>2</th>\n      <th>3</th>\n      <th>4</th>\n      <th>5</th>\n      <th>6</th>\n      <th>7</th>\n      <th>8</th>\n      <th>9</th>\n      <th>...</th>\n      <th>3590</th>\n      <th>3591</th>\n      <th>3592</th>\n      <th>3593</th>\n      <th>3594</th>\n      <th>3595</th>\n      <th>3596</th>\n      <th>3597</th>\n      <th>3598</th>\n      <th>3599</th>\n    </tr>\n  </thead>\n  <tbody>\n    <tr>\n      <th>0</th>\n      <td>0</td>\n      <td>0</td>\n      <td>0</td>\n      <td>0</td>\n      <td>0</td>\n      <td>0</td>\n      <td>0</td>\n      <td>0</td>\n      <td>0</td>\n      <td>0</td>\n      <td>...</td>\n      <td>0</td>\n      <td>0</td>\n      <td>0</td>\n      <td>0</td>\n      <td>0</td>\n      <td>0</td>\n      <td>0</td>\n      <td>0</td>\n      <td>0</td>\n      <td>0</td>\n    </tr>\n    <tr>\n      <th>1</th>\n      <td>0</td>\n      <td>0</td>\n      <td>0</td>\n      <td>0</td>\n      <td>0</td>\n      <td>0</td>\n      <td>0</td>\n      <td>0</td>\n      <td>0</td>\n      <td>0</td>\n      <td>...</td>\n      <td>0</td>\n      <td>0</td>\n      <td>0</td>\n      <td>0</td>\n      <td>0</td>\n      <td>0</td>\n      <td>0</td>\n      <td>0</td>\n      <td>0</td>\n      <td>0</td>\n    </tr>\n    <tr>\n      <th>2</th>\n      <td>0</td>\n      <td>0</td>\n      <td>0</td>\n      <td>0</td>\n      <td>0</td>\n      <td>0</td>\n      <td>0</td>\n      <td>0</td>\n      <td>0</td>\n      <td>0</td>\n      <td>...</td>\n      <td>0</td>\n      <td>0</td>\n      <td>0</td>\n      <td>0</td>\n      <td>0</td>\n      <td>0</td>\n      <td>0</td>\n      <td>0</td>\n      <td>0</td>\n      <td>0</td>\n    </tr>\n    <tr>\n      <th>3</th>\n      <td>0</td>\n      <td>0</td>\n      <td>0</td>\n      <td>0</td>\n      <td>0</td>\n      <td>0</td>\n      <td>0</td>\n      <td>0</td>\n      <td>0</td>\n      <td>0</td>\n      <td>...</td>\n      <td>0</td>\n      <td>0</td>\n      <td>0</td>\n      <td>0</td>\n      <td>0</td>\n      <td>0</td>\n      <td>0</td>\n      <td>0</td>\n      <td>0</td>\n      <td>0</td>\n    </tr>\n    <tr>\n      <th>4</th>\n      <td>0</td>\n      <td>0</td>\n      <td>0</td>\n      <td>0</td>\n      <td>0</td>\n      <td>0</td>\n      <td>0</td>\n      <td>0</td>\n      <td>0</td>\n      <td>0</td>\n      <td>...</td>\n      <td>0</td>\n      <td>0</td>\n      <td>0</td>\n      <td>0</td>\n      <td>0</td>\n      <td>0</td>\n      <td>0</td>\n      <td>0</td>\n      <td>0</td>\n      <td>0</td>\n    </tr>\n    <tr>\n      <th>...</th>\n      <td>...</td>\n      <td>...</td>\n      <td>...</td>\n      <td>...</td>\n      <td>...</td>\n      <td>...</td>\n      <td>...</td>\n      <td>...</td>\n      <td>...</td>\n      <td>...</td>\n      <td>...</td>\n      <td>...</td>\n      <td>...</td>\n      <td>...</td>\n      <td>...</td>\n      <td>...</td>\n      <td>...</td>\n      <td>...</td>\n      <td>...</td>\n      <td>...</td>\n      <td>...</td>\n    </tr>\n    <tr>\n      <th>1795</th>\n      <td>363</td>\n      <td>363</td>\n      <td>363</td>\n      <td>363</td>\n      <td>363</td>\n      <td>363</td>\n      <td>363</td>\n      <td>363</td>\n      <td>363</td>\n      <td>363</td>\n      <td>...</td>\n      <td>397</td>\n      <td>397</td>\n      <td>397</td>\n      <td>397</td>\n      <td>398</td>\n      <td>398</td>\n      <td>398</td>\n      <td>398</td>\n      <td>398</td>\n      <td>398</td>\n    </tr>\n    <tr>\n      <th>1796</th>\n      <td>356</td>\n      <td>356</td>\n      <td>356</td>\n      <td>356</td>\n      <td>356</td>\n      <td>356</td>\n      <td>356</td>\n      <td>355</td>\n      <td>355</td>\n      <td>355</td>\n      <td>...</td>\n      <td>398</td>\n      <td>398</td>\n      <td>398</td>\n      <td>398</td>\n      <td>396</td>\n      <td>396</td>\n      <td>396</td>\n      <td>396</td>\n      <td>396</td>\n      <td>396</td>\n    </tr>\n    <tr>\n      <th>1797</th>\n      <td>355</td>\n      <td>355</td>\n      <td>355</td>\n      <td>355</td>\n      <td>355</td>\n      <td>355</td>\n      <td>355</td>\n      <td>355</td>\n      <td>355</td>\n      <td>355</td>\n      <td>...</td>\n      <td>395</td>\n      <td>395</td>\n      <td>395</td>\n      <td>395</td>\n      <td>395</td>\n      <td>395</td>\n      <td>395</td>\n      <td>395</td>\n      <td>395</td>\n      <td>395</td>\n    </tr>\n    <tr>\n      <th>1798</th>\n      <td>339</td>\n      <td>339</td>\n      <td>339</td>\n      <td>339</td>\n      <td>339</td>\n      <td>339</td>\n      <td>339</td>\n      <td>339</td>\n      <td>339</td>\n      <td>339</td>\n      <td>...</td>\n      <td>396</td>\n      <td>396</td>\n      <td>396</td>\n      <td>396</td>\n      <td>396</td>\n      <td>396</td>\n      <td>396</td>\n      <td>396</td>\n      <td>396</td>\n      <td>396</td>\n    </tr>\n    <tr>\n      <th>1799</th>\n      <td>338</td>\n      <td>338</td>\n      <td>338</td>\n      <td>338</td>\n      <td>338</td>\n      <td>338</td>\n      <td>338</td>\n      <td>338</td>\n      <td>338</td>\n      <td>338</td>\n      <td>...</td>\n      <td>395</td>\n      <td>395</td>\n      <td>395</td>\n      <td>395</td>\n      <td>395</td>\n      <td>395</td>\n      <td>395</td>\n      <td>395</td>\n      <td>395</td>\n      <td>395</td>\n    </tr>\n  </tbody>\n</table>\n<p>1800 rows × 3600 columns</p>\n</div>"
     },
     "execution_count": 8,
     "metadata": {},
     "output_type": "execute_result"
    }
   ],
   "source": [
    "directory_name = r\"E:\\BaiduNetdiskDownload\\solar radiation\\2018\\ISCCP_HXG_global_radiation_2018_01_monthly.nc\"\n",
    "# for filename in os.listdir(directory_name):\n",
    "nc_file = directory_name\n",
    "nc_obj = Dataset(nc_file)\n",
    "data = nc_obj['monthly_global_radiation'][:]\n",
    "df = pd.DataFrame(data)\n",
    "df\n",
    "    # print(data)\n"
   ],
   "metadata": {
    "collapsed": false,
    "pycharm": {
     "name": "#%%\n"
    }
   }
  }
 ],
 "metadata": {
  "kernelspec": {
   "display_name": "Python 3",
   "language": "python",
   "name": "python3"
  },
  "language_info": {
   "codemirror_mode": {
    "name": "ipython",
    "version": 2
   },
   "file_extension": ".py",
   "mimetype": "text/x-python",
   "name": "python",
   "nbconvert_exporter": "python",
   "pygments_lexer": "ipython2",
   "version": "2.7.6"
  }
 },
 "nbformat": 4,
 "nbformat_minor": 0
}